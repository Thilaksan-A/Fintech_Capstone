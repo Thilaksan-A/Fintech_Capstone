{
 "cells": [
  {
   "cell_type": "markdown",
   "id": "ab0280de",
   "metadata": {},
   "source": [
    "# ETH Forecast Demo\n",
    "\n",
    "This notebook demonstrates the MVP backend flow for this project:\n",
    "- Ingest ETH price data\n",
    "- Compute technical indicators\n",
    "- Perform sentiment analysis on sample news\n",
    "- Combine signals to generate a scenario-based insight"
   ]
  },
  {
   "cell_type": "markdown",
   "id": "1ba79eb1",
   "metadata": {},
   "source": [
    "## Data Ingestion"
   ]
  },
  {
   "cell_type": "code",
   "execution_count": 14,
   "id": "bb6a6a0a",
   "metadata": {},
   "outputs": [
    {
     "name": "stdout",
     "output_type": "stream",
     "text": [
      "                        date        price\n",
      "0 2025-05-16 20:24:30.317970  1793.174189\n",
      "1 2025-05-17 20:24:30.317970  1710.822294\n",
      "2 2025-05-18 20:24:30.317970  1663.092272\n",
      "3 2025-05-19 20:24:30.317970  1670.678726\n",
      "4 2025-05-20 20:24:30.317970  1687.408817\n"
     ]
    }
   ],
   "source": [
    "# Simulate price data from API\n",
    "\n",
    "import pandas as pd\n",
    "import numpy as np\n",
    "\n",
    "dates = pd.date_range(end=pd.Timestamp.now(), periods=30)\n",
    "prices = 1800 + np.random.normal(0, 50, size=30).cumsum()\n",
    "\n",
    "df = pd.DataFrame({'date': dates, 'price': prices})\n",
    "\n",
    "print(df.head()) # display first few rows\n",
    "df.to_csv('simulated_prices.csv', index=False)  # save to CSV"
   ]
  },
  {
   "cell_type": "markdown",
   "id": "6d4e35be",
   "metadata": {},
   "source": [
    "# Technical Indicator (RSI)"
   ]
  },
  {
   "cell_type": "code",
   "execution_count": 15,
   "id": "c85142a9",
   "metadata": {},
   "outputs": [
    {
     "data": {
      "text/html": [
       "<div>\n",
       "<style scoped>\n",
       "    .dataframe tbody tr th:only-of-type {\n",
       "        vertical-align: middle;\n",
       "    }\n",
       "\n",
       "    .dataframe tbody tr th {\n",
       "        vertical-align: top;\n",
       "    }\n",
       "\n",
       "    .dataframe thead th {\n",
       "        text-align: right;\n",
       "    }\n",
       "</style>\n",
       "<table border=\"1\" class=\"dataframe\">\n",
       "  <thead>\n",
       "    <tr style=\"text-align: right;\">\n",
       "      <th></th>\n",
       "      <th>date</th>\n",
       "      <th>price</th>\n",
       "      <th>RSI</th>\n",
       "    </tr>\n",
       "  </thead>\n",
       "  <tbody>\n",
       "    <tr>\n",
       "      <th>25</th>\n",
       "      <td>2025-06-10 20:24:30.317970</td>\n",
       "      <td>1592.500903</td>\n",
       "      <td>36.429080</td>\n",
       "    </tr>\n",
       "    <tr>\n",
       "      <th>26</th>\n",
       "      <td>2025-06-11 20:24:30.317970</td>\n",
       "      <td>1534.066213</td>\n",
       "      <td>31.802390</td>\n",
       "    </tr>\n",
       "    <tr>\n",
       "      <th>27</th>\n",
       "      <td>2025-06-12 20:24:30.317970</td>\n",
       "      <td>1560.405089</td>\n",
       "      <td>35.762627</td>\n",
       "    </tr>\n",
       "    <tr>\n",
       "      <th>28</th>\n",
       "      <td>2025-06-13 20:24:30.317970</td>\n",
       "      <td>1581.011544</td>\n",
       "      <td>38.758929</td>\n",
       "    </tr>\n",
       "    <tr>\n",
       "      <th>29</th>\n",
       "      <td>2025-06-14 20:24:30.317970</td>\n",
       "      <td>1540.851089</td>\n",
       "      <td>35.302822</td>\n",
       "    </tr>\n",
       "  </tbody>\n",
       "</table>\n",
       "</div>"
      ],
      "text/plain": [
       "                         date        price        RSI\n",
       "25 2025-06-10 20:24:30.317970  1592.500903  36.429080\n",
       "26 2025-06-11 20:24:30.317970  1534.066213  31.802390\n",
       "27 2025-06-12 20:24:30.317970  1560.405089  35.762627\n",
       "28 2025-06-13 20:24:30.317970  1581.011544  38.758929\n",
       "29 2025-06-14 20:24:30.317970  1540.851089  35.302822"
      ]
     },
     "execution_count": 15,
     "metadata": {},
     "output_type": "execute_result"
    }
   ],
   "source": [
    "from ta.momentum import RSIIndicator\n",
    "\n",
    "rsi = RSIIndicator(close=df['price'], window=14)\n",
    "df['RSI'] = rsi.rsi()\n",
    "df.tail()"
   ]
  },
  {
   "cell_type": "markdown",
   "id": "51ec0cac",
   "metadata": {},
   "source": [
    "# Sentiment Analysis of Sample News"
   ]
  },
  {
   "cell_type": "code",
   "execution_count": 16,
   "id": "d58d1d9c",
   "metadata": {},
   "outputs": [
    {
     "data": {
      "text/plain": [
       "{'neg': 0.0, 'neu': 0.496, 'pos': 0.504, 'compound': 0.7269}"
      ]
     },
     "execution_count": 16,
     "metadata": {},
     "output_type": "execute_result"
    }
   ],
   "source": [
    "from vaderSentiment.vaderSentiment import SentimentIntensityAnalyzer\n",
    "\n",
    "analyzer = SentimentIntensityAnalyzer()\n",
    "sample_news = \"Ethereum shows strong recovery as investor sentiment improves.\"\n",
    "sentiment_score = analyzer.polarity_scores(sample_news)\n",
    "sentiment_score"
   ]
  },
  {
   "cell_type": "markdown",
   "id": "1e085f46",
   "metadata": {},
   "source": [
    "## Signal Fusion Logic"
   ]
  },
  {
   "cell_type": "code",
   "execution_count": 18,
   "id": "1f305e7b",
   "metadata": {},
   "outputs": [
    {
     "data": {
      "text/plain": [
       "'Hold / Neutral'"
      ]
     },
     "execution_count": 18,
     "metadata": {},
     "output_type": "execute_result"
    }
   ],
   "source": [
    "latest_rsi = df['RSI'].iloc[-1]\n",
    "compound_score = sentiment_score['compound']\n",
    "\n",
    "if latest_rsi < 30 and compound_score > 0.2:\n",
    "    insight = \"Buy Signal (RSI oversold + positive sentiment)\"\n",
    "elif latest_rsi > 70 and compound_score < -0.2:\n",
    "    insight = \"Sell Signal (RSI overbought + negative sentiment)\"\n",
    "else:\n",
    "    insight = \"Hold / Neutral\"\n",
    "\n",
    "insight"
   ]
  },
  {
   "cell_type": "code",
   "execution_count": 19,
   "id": "1c2c8775",
   "metadata": {},
   "outputs": [
    {
     "data": {
      "image/png": "[encoded data removed]",
      "text/plain": [
       "<Figure size 640x480 with 1 Axes>"
      ]
     },
     "metadata": {},
     "output_type": "display_data"
    }
   ],
   "source": [
    "import matplotlib.pyplot as plt\n",
    "\n",
    "df[['price', 'RSI']].plot(title=\"ETH Price and RSI\")\n",
    "plt.axhline(70, color='red', linestyle='--', alpha=0.5)\n",
    "plt.axhline(30, color='green', linestyle='--', alpha=0.5)\n",
    "plt.show()"
   ]
  },
  {
   "cell_type": "code",
   "execution_count": null,
   "id": "fd09b0b0",
   "metadata": {},
   "outputs": [],
   "source": []
  }
 ],
 "metadata": {
  "kernelspec": {
   "display_name": "demo",
   "language": "python",
   "name": "python3"
  },
  "language_info": {
   "codemirror_mode": {
    "name": "ipython",
    "version": 3
   },
   "file_extension": ".py",
   "mimetype": "text/x-python",
   "name": "python",
   "nbconvert_exporter": "python",
   "pygments_lexer": "ipython3",
   "version": "3.10.18"
  }
 },
 "nbformat": 4,
 "nbformat_minor": 5
}
