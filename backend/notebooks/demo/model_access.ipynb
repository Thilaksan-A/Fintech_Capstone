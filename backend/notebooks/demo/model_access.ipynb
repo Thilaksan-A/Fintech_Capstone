{
 "cells": [
  {
   "cell_type": "markdown",
   "id": "b157398b",
   "metadata": {},
   "source": [
    "# Demo notebook for accessing models\n",
    "\n",
    "You can access models in the backend without importing them directly with docker compose.\n",
    "\n",
    "**How?**\n",
    "1. **Start the docker container** (if not already running):\n",
    "\n",
    "    ```bash\n",
    "    docker compose up -d\n",
    "    ```\n",
    "\n",
    "2. **Start Jupyter in the backend container**:\n",
    "\n",
    "    ```bash\n",
    "    docker compose exec backend jupyter lab\n",
    "    ```\n",
    "\n",
    "    > This will run a Jupyter Lab server in the backend container.\n",
    "    > You can access it at `http://localhost:8888` in your browser.\n",
    "\n",
    "3. **Access Jupyter**:\n",
    "\n",
    "   Open the URL shown in the terminal (usually `http://localhost:8888`).\n",
    "\n",
    "   Or if you want to open notebook in VSCode:\n",
    "\n",
    "   - In the notebook's kernel selection, select `\"Existing Jupyter Server...\"`, then enter the URL `http://localhost:8888`.\n",
    "\n",
    "Now you can run your notebook cells and access the models as if you were in the flask shell environment."
   ]
  },
  {
   "cell_type": "code",
   "execution_count": 3,
   "id": "4d744e38",
   "metadata": {},
   "outputs": [
    {
     "data": {
      "text/plain": [
       "[<User a48cc324-28fd-4171-9812-47048459a7ee>]"
      ]
     },
     "execution_count": 3,
     "metadata": {},
     "output_type": "execute_result"
    }
   ],
   "source": [
    "User.query.all()"
   ]
  }
 ],
 "metadata": {
  "kernelspec": {
   "display_name": "Python 3 (ipykernel)",
   "language": "python",
   "name": "python3"
  },
  "language_info": {
   "codemirror_mode": {
    "name": "ipython",
    "version": 3
   },
   "file_extension": ".py",
   "mimetype": "text/x-python",
   "name": "python",
   "nbconvert_exporter": "python",
   "pygments_lexer": "ipython3",
   "version": "3.10.18"
  }
 },
 "nbformat": 4,
 "nbformat_minor": 5
}
